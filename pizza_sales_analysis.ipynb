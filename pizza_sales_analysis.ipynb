{
 "cells": [
  {
   "cell_type": "markdown",
   "id": "6e9b86e3-5ec0-4c42-a812-aea3e4a58f21",
   "metadata": {},
   "source": [
    "## **Pizza Sales Analysis**"
   ]
  },
  {
   "cell_type": "markdown",
   "id": "a8ba01bc-3068-41a8-8815-365758209693",
   "metadata": {},
   "source": [
    "#### The aim of the project is to do an analysis on a pizza sales data. The dataset is in CSV format, downloaded from kaggle.\n",
    "#### This project mainly focuses on the financial metrics to measure the revenue earned and to see if there are any trends in pizza orders "
   ]
  },
  {
   "cell_type": "code",
   "execution_count": null,
   "id": "e9158fdd-e590-4245-9f0b-ab864cadedcd",
   "metadata": {},
   "outputs": [],
   "source": []
  },
  {
   "cell_type": "markdown",
   "id": "d617212b-4bf8-4d10-8c42-2b1ea4616f35",
   "metadata": {},
   "source": [
    "### **Table of Contents**"
   ]
  },
  {
   "cell_type": "markdown",
   "id": "9dfc93ae-272a-4b77-b61b-ecc073e6ba43",
   "metadata": {},
   "source": [
    " #### 1.Importing Libraries\n",
    " #### 2.Data Cleaning\n",
    "         2.1 Converting the Dataset into Dataframe\n",
    "         2.2 Converting the Columns into appropriate Data Types\n",
    "         2.3 Creating New Columns\n",
    " #### 3.Analysis\n",
    "         3.1 Gross Revenue by Month\n",
    "         3.2 Average Order Value(AOV) by Month\n",
    "         3.3 Total Sales by each Pizza\n",
    "         3.4 Total Quantity Sold by each Pizza Category\n",
    "         3.5 Peak hours\n",
    "         3.6 Common Pizza Combinations\n",
    " #### 4.Conclusion"
   ]
  },
  {
   "cell_type": "code",
   "execution_count": null,
   "id": "12157ea1-82ab-45cc-b17c-1ba7bbb816cf",
   "metadata": {},
   "outputs": [],
   "source": []
  },
  {
   "cell_type": "markdown",
   "id": "f3376a9a-9a85-4463-baae-600efcc1eca1",
   "metadata": {},
   "source": [
    "#### **1. Importing Libraries**"
   ]
  },
  {
   "cell_type": "code",
   "execution_count": 1,
   "id": "4f2ae4c3-ea0c-4255-8b47-a2fa2261cf2d",
   "metadata": {},
   "outputs": [],
   "source": [
    "import pandas as pd\n",
    "import matplotlib.pyplot as plt"
   ]
  },
  {
   "cell_type": "code",
   "execution_count": null,
   "id": "04f23b93-0b1b-40c9-8815-be83282edcd8",
   "metadata": {},
   "outputs": [],
   "source": []
  },
  {
   "cell_type": "markdown",
   "id": "df45bfe2-ae52-4297-b60a-c00b7e6333b8",
   "metadata": {},
   "source": [
    "#### **2. Data Cleaning**"
   ]
  },
  {
   "cell_type": "markdown",
   "id": "29f82737-c676-4d7c-af78-fd95e7cef6be",
   "metadata": {},
   "source": [
    "#### 2.1 Converting the Dataset into Dataframe"
   ]
  },
  {
   "cell_type": "code",
   "execution_count": 69,
   "id": "e2a6def3-d6ba-42a7-ba46-247af7a6e191",
   "metadata": {},
   "outputs": [
    {
     "data": {
      "text/html": [
       "<div>\n",
       "<style scoped>\n",
       "    .dataframe tbody tr th:only-of-type {\n",
       "        vertical-align: middle;\n",
       "    }\n",
       "\n",
       "    .dataframe tbody tr th {\n",
       "        vertical-align: top;\n",
       "    }\n",
       "\n",
       "    .dataframe thead th {\n",
       "        text-align: right;\n",
       "    }\n",
       "</style>\n",
       "<table border=\"1\" class=\"dataframe\">\n",
       "  <thead>\n",
       "    <tr style=\"text-align: right;\">\n",
       "      <th></th>\n",
       "      <th>pizza_id</th>\n",
       "      <th>order_id</th>\n",
       "      <th>pizza_name_id</th>\n",
       "      <th>quantity</th>\n",
       "      <th>order_date</th>\n",
       "      <th>order_time</th>\n",
       "      <th>unit_price</th>\n",
       "      <th>total_price</th>\n",
       "      <th>pizza_size</th>\n",
       "      <th>pizza_category</th>\n",
       "      <th>pizza_ingredients</th>\n",
       "      <th>pizza_name</th>\n",
       "    </tr>\n",
       "  </thead>\n",
       "  <tbody>\n",
       "    <tr>\n",
       "      <th>0</th>\n",
       "      <td>1.0</td>\n",
       "      <td>1.0</td>\n",
       "      <td>hawaiian_m</td>\n",
       "      <td>1.0</td>\n",
       "      <td>1/1/2015</td>\n",
       "      <td>11:38:36</td>\n",
       "      <td>13.25</td>\n",
       "      <td>13.25</td>\n",
       "      <td>M</td>\n",
       "      <td>Classic</td>\n",
       "      <td>Sliced Ham, Pineapple, Mozzarella Cheese</td>\n",
       "      <td>The Hawaiian Pizza</td>\n",
       "    </tr>\n",
       "    <tr>\n",
       "      <th>1</th>\n",
       "      <td>2.0</td>\n",
       "      <td>2.0</td>\n",
       "      <td>classic_dlx_m</td>\n",
       "      <td>1.0</td>\n",
       "      <td>1/1/2015</td>\n",
       "      <td>11:57:40</td>\n",
       "      <td>16.00</td>\n",
       "      <td>16.00</td>\n",
       "      <td>M</td>\n",
       "      <td>Classic</td>\n",
       "      <td>Pepperoni, Mushrooms, Red Onions, Red Peppers,...</td>\n",
       "      <td>The Classic Deluxe Pizza</td>\n",
       "    </tr>\n",
       "    <tr>\n",
       "      <th>2</th>\n",
       "      <td>3.0</td>\n",
       "      <td>2.0</td>\n",
       "      <td>five_cheese_l</td>\n",
       "      <td>1.0</td>\n",
       "      <td>1/1/2015</td>\n",
       "      <td>11:57:40</td>\n",
       "      <td>18.50</td>\n",
       "      <td>18.50</td>\n",
       "      <td>L</td>\n",
       "      <td>Veggie</td>\n",
       "      <td>Mozzarella Cheese, Provolone Cheese, Smoked Go...</td>\n",
       "      <td>The Five Cheese Pizza</td>\n",
       "    </tr>\n",
       "    <tr>\n",
       "      <th>3</th>\n",
       "      <td>4.0</td>\n",
       "      <td>2.0</td>\n",
       "      <td>ital_supr_l</td>\n",
       "      <td>1.0</td>\n",
       "      <td>1/1/2015</td>\n",
       "      <td>11:57:40</td>\n",
       "      <td>20.75</td>\n",
       "      <td>20.75</td>\n",
       "      <td>L</td>\n",
       "      <td>Supreme</td>\n",
       "      <td>Calabrese Salami, Capocollo, Tomatoes, Red Oni...</td>\n",
       "      <td>The Italian Supreme Pizza</td>\n",
       "    </tr>\n",
       "    <tr>\n",
       "      <th>4</th>\n",
       "      <td>5.0</td>\n",
       "      <td>2.0</td>\n",
       "      <td>mexicana_m</td>\n",
       "      <td>1.0</td>\n",
       "      <td>1/1/2015</td>\n",
       "      <td>11:57:40</td>\n",
       "      <td>16.00</td>\n",
       "      <td>16.00</td>\n",
       "      <td>M</td>\n",
       "      <td>Veggie</td>\n",
       "      <td>Tomatoes, Red Peppers, Jalapeno Peppers, Red O...</td>\n",
       "      <td>The Mexicana Pizza</td>\n",
       "    </tr>\n",
       "  </tbody>\n",
       "</table>\n",
       "</div>"
      ],
      "text/plain": [
       "   pizza_id  order_id  pizza_name_id  quantity order_date order_time  \\\n",
       "0       1.0       1.0     hawaiian_m       1.0   1/1/2015   11:38:36   \n",
       "1       2.0       2.0  classic_dlx_m       1.0   1/1/2015   11:57:40   \n",
       "2       3.0       2.0  five_cheese_l       1.0   1/1/2015   11:57:40   \n",
       "3       4.0       2.0    ital_supr_l       1.0   1/1/2015   11:57:40   \n",
       "4       5.0       2.0     mexicana_m       1.0   1/1/2015   11:57:40   \n",
       "\n",
       "   unit_price  total_price pizza_size pizza_category  \\\n",
       "0       13.25        13.25          M        Classic   \n",
       "1       16.00        16.00          M        Classic   \n",
       "2       18.50        18.50          L         Veggie   \n",
       "3       20.75        20.75          L        Supreme   \n",
       "4       16.00        16.00          M         Veggie   \n",
       "\n",
       "                                   pizza_ingredients  \\\n",
       "0           Sliced Ham, Pineapple, Mozzarella Cheese   \n",
       "1  Pepperoni, Mushrooms, Red Onions, Red Peppers,...   \n",
       "2  Mozzarella Cheese, Provolone Cheese, Smoked Go...   \n",
       "3  Calabrese Salami, Capocollo, Tomatoes, Red Oni...   \n",
       "4  Tomatoes, Red Peppers, Jalapeno Peppers, Red O...   \n",
       "\n",
       "                  pizza_name  \n",
       "0         The Hawaiian Pizza  \n",
       "1   The Classic Deluxe Pizza  \n",
       "2      The Five Cheese Pizza  \n",
       "3  The Italian Supreme Pizza  \n",
       "4         The Mexicana Pizza  "
      ]
     },
     "execution_count": 69,
     "metadata": {},
     "output_type": "execute_result"
    }
   ],
   "source": [
    "pz_df=pd.read_csv('D:/VCA/Input Files/pizza_sales.csv')\n",
    "\n",
    "pz_df.head()"
   ]
  },
  {
   "cell_type": "code",
   "execution_count": 9,
   "id": "13933b9e-3a6c-4c9b-9f00-79558355a57c",
   "metadata": {},
   "outputs": [
    {
     "name": "stdout",
     "output_type": "stream",
     "text": [
      "<class 'pandas.core.frame.DataFrame'>\n",
      "RangeIndex: 48620 entries, 0 to 48619\n",
      "Data columns (total 12 columns):\n",
      " #   Column             Non-Null Count  Dtype  \n",
      "---  ------             --------------  -----  \n",
      " 0   pizza_id           48620 non-null  float64\n",
      " 1   order_id           48620 non-null  float64\n",
      " 2   pizza_name_id      48620 non-null  object \n",
      " 3   quantity           48620 non-null  float64\n",
      " 4   order_date         48620 non-null  object \n",
      " 5   order_time         48620 non-null  object \n",
      " 6   unit_price         48620 non-null  float64\n",
      " 7   total_price        48620 non-null  float64\n",
      " 8   pizza_size         48620 non-null  object \n",
      " 9   pizza_category     48620 non-null  object \n",
      " 10  pizza_ingredients  48620 non-null  object \n",
      " 11  pizza_name         48620 non-null  object \n",
      "dtypes: float64(5), object(7)\n",
      "memory usage: 4.5+ MB\n"
     ]
    }
   ],
   "source": [
    "pz_df.info()"
   ]
  },
  {
   "cell_type": "markdown",
   "id": "4405d756-027d-4dbb-a9ef-48f9f90f6160",
   "metadata": {},
   "source": [
    "#### 2.2 Converting the Columns into appropriate Data Types"
   ]
  },
  {
   "cell_type": "markdown",
   "id": "3d273554-55ec-4a80-9dad-89d6ea0ef70f",
   "metadata": {},
   "source": [
    "#### *Converting pizza_id,order_id,quantity into int64 type*"
   ]
  },
  {
   "cell_type": "code",
   "execution_count": 3,
   "id": "5d368b18-cffa-44bc-b636-cc958ab7295f",
   "metadata": {},
   "outputs": [
    {
     "data": {
      "text/html": [
       "<div>\n",
       "<style scoped>\n",
       "    .dataframe tbody tr th:only-of-type {\n",
       "        vertical-align: middle;\n",
       "    }\n",
       "\n",
       "    .dataframe tbody tr th {\n",
       "        vertical-align: top;\n",
       "    }\n",
       "\n",
       "    .dataframe thead th {\n",
       "        text-align: right;\n",
       "    }\n",
       "</style>\n",
       "<table border=\"1\" class=\"dataframe\">\n",
       "  <thead>\n",
       "    <tr style=\"text-align: right;\">\n",
       "      <th></th>\n",
       "      <th>pizza_id</th>\n",
       "      <th>order_id</th>\n",
       "      <th>pizza_name_id</th>\n",
       "      <th>quantity</th>\n",
       "      <th>order_date</th>\n",
       "      <th>order_time</th>\n",
       "      <th>unit_price</th>\n",
       "      <th>total_price</th>\n",
       "      <th>pizza_size</th>\n",
       "      <th>pizza_category</th>\n",
       "      <th>pizza_ingredients</th>\n",
       "      <th>pizza_name</th>\n",
       "    </tr>\n",
       "  </thead>\n",
       "  <tbody>\n",
       "    <tr>\n",
       "      <th>48615</th>\n",
       "      <td>48616</td>\n",
       "      <td>21348</td>\n",
       "      <td>ckn_alfredo_m</td>\n",
       "      <td>1</td>\n",
       "      <td>31-12-2015</td>\n",
       "      <td>21:23:10</td>\n",
       "      <td>16.75</td>\n",
       "      <td>16.75</td>\n",
       "      <td>M</td>\n",
       "      <td>Chicken</td>\n",
       "      <td>Chicken, Red Onions, Red Peppers, Mushrooms, A...</td>\n",
       "      <td>The Chicken Alfredo Pizza</td>\n",
       "    </tr>\n",
       "    <tr>\n",
       "      <th>48616</th>\n",
       "      <td>48617</td>\n",
       "      <td>21348</td>\n",
       "      <td>four_cheese_l</td>\n",
       "      <td>1</td>\n",
       "      <td>31-12-2015</td>\n",
       "      <td>21:23:10</td>\n",
       "      <td>17.95</td>\n",
       "      <td>17.95</td>\n",
       "      <td>L</td>\n",
       "      <td>Veggie</td>\n",
       "      <td>Ricotta Cheese, Gorgonzola Piccante Cheese, Mo...</td>\n",
       "      <td>The Four Cheese Pizza</td>\n",
       "    </tr>\n",
       "    <tr>\n",
       "      <th>48617</th>\n",
       "      <td>48618</td>\n",
       "      <td>21348</td>\n",
       "      <td>napolitana_s</td>\n",
       "      <td>1</td>\n",
       "      <td>31-12-2015</td>\n",
       "      <td>21:23:10</td>\n",
       "      <td>12.00</td>\n",
       "      <td>12.00</td>\n",
       "      <td>S</td>\n",
       "      <td>Classic</td>\n",
       "      <td>Tomatoes, Anchovies, Green Olives, Red Onions,...</td>\n",
       "      <td>The Napolitana Pizza</td>\n",
       "    </tr>\n",
       "    <tr>\n",
       "      <th>48618</th>\n",
       "      <td>48619</td>\n",
       "      <td>21349</td>\n",
       "      <td>mexicana_l</td>\n",
       "      <td>1</td>\n",
       "      <td>31-12-2015</td>\n",
       "      <td>22:09:54</td>\n",
       "      <td>20.25</td>\n",
       "      <td>20.25</td>\n",
       "      <td>L</td>\n",
       "      <td>Veggie</td>\n",
       "      <td>Tomatoes, Red Peppers, Jalapeno Peppers, Red O...</td>\n",
       "      <td>The Mexicana Pizza</td>\n",
       "    </tr>\n",
       "    <tr>\n",
       "      <th>48619</th>\n",
       "      <td>48620</td>\n",
       "      <td>21350</td>\n",
       "      <td>bbq_ckn_s</td>\n",
       "      <td>1</td>\n",
       "      <td>31-12-2015</td>\n",
       "      <td>23:02:05</td>\n",
       "      <td>12.75</td>\n",
       "      <td>12.75</td>\n",
       "      <td>S</td>\n",
       "      <td>Chicken</td>\n",
       "      <td>Barbecued Chicken, Red Peppers, Green Peppers,...</td>\n",
       "      <td>The Barbecue Chicken Pizza</td>\n",
       "    </tr>\n",
       "  </tbody>\n",
       "</table>\n",
       "</div>"
      ],
      "text/plain": [
       "      pizza_id order_id  pizza_name_id  quantity  order_date order_time  \\\n",
       "48615    48616    21348  ckn_alfredo_m         1  31-12-2015   21:23:10   \n",
       "48616    48617    21348  four_cheese_l         1  31-12-2015   21:23:10   \n",
       "48617    48618    21348   napolitana_s         1  31-12-2015   21:23:10   \n",
       "48618    48619    21349     mexicana_l         1  31-12-2015   22:09:54   \n",
       "48619    48620    21350      bbq_ckn_s         1  31-12-2015   23:02:05   \n",
       "\n",
       "       unit_price  total_price pizza_size pizza_category  \\\n",
       "48615       16.75        16.75          M        Chicken   \n",
       "48616       17.95        17.95          L         Veggie   \n",
       "48617       12.00        12.00          S        Classic   \n",
       "48618       20.25        20.25          L         Veggie   \n",
       "48619       12.75        12.75          S        Chicken   \n",
       "\n",
       "                                       pizza_ingredients  \\\n",
       "48615  Chicken, Red Onions, Red Peppers, Mushrooms, A...   \n",
       "48616  Ricotta Cheese, Gorgonzola Piccante Cheese, Mo...   \n",
       "48617  Tomatoes, Anchovies, Green Olives, Red Onions,...   \n",
       "48618  Tomatoes, Red Peppers, Jalapeno Peppers, Red O...   \n",
       "48619  Barbecued Chicken, Red Peppers, Green Peppers,...   \n",
       "\n",
       "                       pizza_name  \n",
       "48615   The Chicken Alfredo Pizza  \n",
       "48616       The Four Cheese Pizza  \n",
       "48617        The Napolitana Pizza  \n",
       "48618          The Mexicana Pizza  \n",
       "48619  The Barbecue Chicken Pizza  "
      ]
     },
     "execution_count": 3,
     "metadata": {},
     "output_type": "execute_result"
    }
   ],
   "source": [
    "pz_df = pz_df.astype({\"pizza_id\": \"int64\",\"order_id\": \"int64\",\"quantity\": \"int64\"})\n",
    "pz_df = pz_df.astype({\"pizza_id\": \"string\", \"order_id\": \"string\"})\n",
    "pz_df.tail()"
   ]
  },
  {
   "cell_type": "markdown",
   "id": "a2dffda6-4722-4839-81f3-7719573baee4",
   "metadata": {},
   "source": [
    "#### *Formatting order_date*"
   ]
  },
  {
   "cell_type": "code",
   "execution_count": 4,
   "id": "ab4d63d6-e685-4531-8353-2dc42b111c0a",
   "metadata": {},
   "outputs": [
    {
     "data": {
      "text/html": [
       "<div>\n",
       "<style scoped>\n",
       "    .dataframe tbody tr th:only-of-type {\n",
       "        vertical-align: middle;\n",
       "    }\n",
       "\n",
       "    .dataframe tbody tr th {\n",
       "        vertical-align: top;\n",
       "    }\n",
       "\n",
       "    .dataframe thead th {\n",
       "        text-align: right;\n",
       "    }\n",
       "</style>\n",
       "<table border=\"1\" class=\"dataframe\">\n",
       "  <thead>\n",
       "    <tr style=\"text-align: right;\">\n",
       "      <th></th>\n",
       "      <th>pizza_id</th>\n",
       "      <th>order_id</th>\n",
       "      <th>pizza_name_id</th>\n",
       "      <th>quantity</th>\n",
       "      <th>order_date</th>\n",
       "      <th>order_time</th>\n",
       "      <th>unit_price</th>\n",
       "      <th>total_price</th>\n",
       "      <th>pizza_size</th>\n",
       "      <th>pizza_category</th>\n",
       "      <th>pizza_ingredients</th>\n",
       "      <th>pizza_name</th>\n",
       "    </tr>\n",
       "  </thead>\n",
       "  <tbody>\n",
       "    <tr>\n",
       "      <th>48615</th>\n",
       "      <td>48616</td>\n",
       "      <td>21348</td>\n",
       "      <td>ckn_alfredo_m</td>\n",
       "      <td>1</td>\n",
       "      <td>31/12/2015</td>\n",
       "      <td>21:23:10</td>\n",
       "      <td>16.75</td>\n",
       "      <td>16.75</td>\n",
       "      <td>M</td>\n",
       "      <td>Chicken</td>\n",
       "      <td>Chicken, Red Onions, Red Peppers, Mushrooms, A...</td>\n",
       "      <td>The Chicken Alfredo Pizza</td>\n",
       "    </tr>\n",
       "    <tr>\n",
       "      <th>48616</th>\n",
       "      <td>48617</td>\n",
       "      <td>21348</td>\n",
       "      <td>four_cheese_l</td>\n",
       "      <td>1</td>\n",
       "      <td>31/12/2015</td>\n",
       "      <td>21:23:10</td>\n",
       "      <td>17.95</td>\n",
       "      <td>17.95</td>\n",
       "      <td>L</td>\n",
       "      <td>Veggie</td>\n",
       "      <td>Ricotta Cheese, Gorgonzola Piccante Cheese, Mo...</td>\n",
       "      <td>The Four Cheese Pizza</td>\n",
       "    </tr>\n",
       "    <tr>\n",
       "      <th>48617</th>\n",
       "      <td>48618</td>\n",
       "      <td>21348</td>\n",
       "      <td>napolitana_s</td>\n",
       "      <td>1</td>\n",
       "      <td>31/12/2015</td>\n",
       "      <td>21:23:10</td>\n",
       "      <td>12.00</td>\n",
       "      <td>12.00</td>\n",
       "      <td>S</td>\n",
       "      <td>Classic</td>\n",
       "      <td>Tomatoes, Anchovies, Green Olives, Red Onions,...</td>\n",
       "      <td>The Napolitana Pizza</td>\n",
       "    </tr>\n",
       "    <tr>\n",
       "      <th>48618</th>\n",
       "      <td>48619</td>\n",
       "      <td>21349</td>\n",
       "      <td>mexicana_l</td>\n",
       "      <td>1</td>\n",
       "      <td>31/12/2015</td>\n",
       "      <td>22:09:54</td>\n",
       "      <td>20.25</td>\n",
       "      <td>20.25</td>\n",
       "      <td>L</td>\n",
       "      <td>Veggie</td>\n",
       "      <td>Tomatoes, Red Peppers, Jalapeno Peppers, Red O...</td>\n",
       "      <td>The Mexicana Pizza</td>\n",
       "    </tr>\n",
       "    <tr>\n",
       "      <th>48619</th>\n",
       "      <td>48620</td>\n",
       "      <td>21350</td>\n",
       "      <td>bbq_ckn_s</td>\n",
       "      <td>1</td>\n",
       "      <td>31/12/2015</td>\n",
       "      <td>23:02:05</td>\n",
       "      <td>12.75</td>\n",
       "      <td>12.75</td>\n",
       "      <td>S</td>\n",
       "      <td>Chicken</td>\n",
       "      <td>Barbecued Chicken, Red Peppers, Green Peppers,...</td>\n",
       "      <td>The Barbecue Chicken Pizza</td>\n",
       "    </tr>\n",
       "  </tbody>\n",
       "</table>\n",
       "</div>"
      ],
      "text/plain": [
       "      pizza_id order_id  pizza_name_id  quantity  order_date order_time  \\\n",
       "48615    48616    21348  ckn_alfredo_m         1  31/12/2015   21:23:10   \n",
       "48616    48617    21348  four_cheese_l         1  31/12/2015   21:23:10   \n",
       "48617    48618    21348   napolitana_s         1  31/12/2015   21:23:10   \n",
       "48618    48619    21349     mexicana_l         1  31/12/2015   22:09:54   \n",
       "48619    48620    21350      bbq_ckn_s         1  31/12/2015   23:02:05   \n",
       "\n",
       "       unit_price  total_price pizza_size pizza_category  \\\n",
       "48615       16.75        16.75          M        Chicken   \n",
       "48616       17.95        17.95          L         Veggie   \n",
       "48617       12.00        12.00          S        Classic   \n",
       "48618       20.25        20.25          L         Veggie   \n",
       "48619       12.75        12.75          S        Chicken   \n",
       "\n",
       "                                       pizza_ingredients  \\\n",
       "48615  Chicken, Red Onions, Red Peppers, Mushrooms, A...   \n",
       "48616  Ricotta Cheese, Gorgonzola Piccante Cheese, Mo...   \n",
       "48617  Tomatoes, Anchovies, Green Olives, Red Onions,...   \n",
       "48618  Tomatoes, Red Peppers, Jalapeno Peppers, Red O...   \n",
       "48619  Barbecued Chicken, Red Peppers, Green Peppers,...   \n",
       "\n",
       "                       pizza_name  \n",
       "48615   The Chicken Alfredo Pizza  \n",
       "48616       The Four Cheese Pizza  \n",
       "48617        The Napolitana Pizza  \n",
       "48618          The Mexicana Pizza  \n",
       "48619  The Barbecue Chicken Pizza  "
      ]
     },
     "execution_count": 4,
     "metadata": {},
     "output_type": "execute_result"
    }
   ],
   "source": [
    "pz_df['order_date']=pz_df['order_date'].str.replace('-','/')\n",
    "\n",
    "pz_df.tail()"
   ]
  },
  {
   "cell_type": "markdown",
   "id": "7120201a-2654-4c49-a63d-1232c78dba09",
   "metadata": {},
   "source": [
    "#### 2.3 Creating New Columns"
   ]
  },
  {
   "cell_type": "markdown",
   "id": "ec5cb143-c3e5-4e0b-8bcf-44b4efd53ec5",
   "metadata": {},
   "source": [
    "#### *Creating month and hour columns*"
   ]
  },
  {
   "cell_type": "code",
   "execution_count": 5,
   "id": "8c4d654c-393b-40a2-bfad-23a7e46b5c88",
   "metadata": {},
   "outputs": [
    {
     "data": {
      "text/html": [
       "<div>\n",
       "<style scoped>\n",
       "    .dataframe tbody tr th:only-of-type {\n",
       "        vertical-align: middle;\n",
       "    }\n",
       "\n",
       "    .dataframe tbody tr th {\n",
       "        vertical-align: top;\n",
       "    }\n",
       "\n",
       "    .dataframe thead th {\n",
       "        text-align: right;\n",
       "    }\n",
       "</style>\n",
       "<table border=\"1\" class=\"dataframe\">\n",
       "  <thead>\n",
       "    <tr style=\"text-align: right;\">\n",
       "      <th></th>\n",
       "      <th>pizza_id</th>\n",
       "      <th>order_id</th>\n",
       "      <th>pizza_name_id</th>\n",
       "      <th>quantity</th>\n",
       "      <th>order_date</th>\n",
       "      <th>order_time</th>\n",
       "      <th>unit_price</th>\n",
       "      <th>total_price</th>\n",
       "      <th>pizza_size</th>\n",
       "      <th>pizza_category</th>\n",
       "      <th>pizza_ingredients</th>\n",
       "      <th>pizza_name</th>\n",
       "      <th>month</th>\n",
       "    </tr>\n",
       "  </thead>\n",
       "  <tbody>\n",
       "    <tr>\n",
       "      <th>0</th>\n",
       "      <td>1</td>\n",
       "      <td>1</td>\n",
       "      <td>hawaiian_m</td>\n",
       "      <td>1</td>\n",
       "      <td>1/1/2015</td>\n",
       "      <td>11:38:36</td>\n",
       "      <td>13.25</td>\n",
       "      <td>13.25</td>\n",
       "      <td>M</td>\n",
       "      <td>Classic</td>\n",
       "      <td>Sliced Ham, Pineapple, Mozzarella Cheese</td>\n",
       "      <td>The Hawaiian Pizza</td>\n",
       "      <td>1</td>\n",
       "    </tr>\n",
       "    <tr>\n",
       "      <th>1</th>\n",
       "      <td>2</td>\n",
       "      <td>2</td>\n",
       "      <td>classic_dlx_m</td>\n",
       "      <td>1</td>\n",
       "      <td>1/1/2015</td>\n",
       "      <td>11:57:40</td>\n",
       "      <td>16.00</td>\n",
       "      <td>16.00</td>\n",
       "      <td>M</td>\n",
       "      <td>Classic</td>\n",
       "      <td>Pepperoni, Mushrooms, Red Onions, Red Peppers,...</td>\n",
       "      <td>The Classic Deluxe Pizza</td>\n",
       "      <td>1</td>\n",
       "    </tr>\n",
       "    <tr>\n",
       "      <th>2</th>\n",
       "      <td>3</td>\n",
       "      <td>2</td>\n",
       "      <td>five_cheese_l</td>\n",
       "      <td>1</td>\n",
       "      <td>1/1/2015</td>\n",
       "      <td>11:57:40</td>\n",
       "      <td>18.50</td>\n",
       "      <td>18.50</td>\n",
       "      <td>L</td>\n",
       "      <td>Veggie</td>\n",
       "      <td>Mozzarella Cheese, Provolone Cheese, Smoked Go...</td>\n",
       "      <td>The Five Cheese Pizza</td>\n",
       "      <td>1</td>\n",
       "    </tr>\n",
       "    <tr>\n",
       "      <th>3</th>\n",
       "      <td>4</td>\n",
       "      <td>2</td>\n",
       "      <td>ital_supr_l</td>\n",
       "      <td>1</td>\n",
       "      <td>1/1/2015</td>\n",
       "      <td>11:57:40</td>\n",
       "      <td>20.75</td>\n",
       "      <td>20.75</td>\n",
       "      <td>L</td>\n",
       "      <td>Supreme</td>\n",
       "      <td>Calabrese Salami, Capocollo, Tomatoes, Red Oni...</td>\n",
       "      <td>The Italian Supreme Pizza</td>\n",
       "      <td>1</td>\n",
       "    </tr>\n",
       "    <tr>\n",
       "      <th>4</th>\n",
       "      <td>5</td>\n",
       "      <td>2</td>\n",
       "      <td>mexicana_m</td>\n",
       "      <td>1</td>\n",
       "      <td>1/1/2015</td>\n",
       "      <td>11:57:40</td>\n",
       "      <td>16.00</td>\n",
       "      <td>16.00</td>\n",
       "      <td>M</td>\n",
       "      <td>Veggie</td>\n",
       "      <td>Tomatoes, Red Peppers, Jalapeno Peppers, Red O...</td>\n",
       "      <td>The Mexicana Pizza</td>\n",
       "      <td>1</td>\n",
       "    </tr>\n",
       "  </tbody>\n",
       "</table>\n",
       "</div>"
      ],
      "text/plain": [
       "  pizza_id order_id  pizza_name_id  quantity order_date order_time  \\\n",
       "0        1        1     hawaiian_m         1   1/1/2015   11:38:36   \n",
       "1        2        2  classic_dlx_m         1   1/1/2015   11:57:40   \n",
       "2        3        2  five_cheese_l         1   1/1/2015   11:57:40   \n",
       "3        4        2    ital_supr_l         1   1/1/2015   11:57:40   \n",
       "4        5        2     mexicana_m         1   1/1/2015   11:57:40   \n",
       "\n",
       "   unit_price  total_price pizza_size pizza_category  \\\n",
       "0       13.25        13.25          M        Classic   \n",
       "1       16.00        16.00          M        Classic   \n",
       "2       18.50        18.50          L         Veggie   \n",
       "3       20.75        20.75          L        Supreme   \n",
       "4       16.00        16.00          M         Veggie   \n",
       "\n",
       "                                   pizza_ingredients  \\\n",
       "0           Sliced Ham, Pineapple, Mozzarella Cheese   \n",
       "1  Pepperoni, Mushrooms, Red Onions, Red Peppers,...   \n",
       "2  Mozzarella Cheese, Provolone Cheese, Smoked Go...   \n",
       "3  Calabrese Salami, Capocollo, Tomatoes, Red Oni...   \n",
       "4  Tomatoes, Red Peppers, Jalapeno Peppers, Red O...   \n",
       "\n",
       "                  pizza_name  month  \n",
       "0         The Hawaiian Pizza      1  \n",
       "1   The Classic Deluxe Pizza      1  \n",
       "2      The Five Cheese Pizza      1  \n",
       "3  The Italian Supreme Pizza      1  \n",
       "4         The Mexicana Pizza      1  "
      ]
     },
     "execution_count": 5,
     "metadata": {},
     "output_type": "execute_result"
    }
   ],
   "source": [
    "pz_df['month'] = pd.to_datetime(pz_df['order_date'],format=\"%d/%m/%Y\").dt.month\n",
    "\n",
    "pz_df.head()"
   ]
  },
  {
   "cell_type": "code",
   "execution_count": 6,
   "id": "b8401d07-111c-4f70-971e-02823e5d74c2",
   "metadata": {},
   "outputs": [
    {
     "data": {
      "text/html": [
       "<div>\n",
       "<style scoped>\n",
       "    .dataframe tbody tr th:only-of-type {\n",
       "        vertical-align: middle;\n",
       "    }\n",
       "\n",
       "    .dataframe tbody tr th {\n",
       "        vertical-align: top;\n",
       "    }\n",
       "\n",
       "    .dataframe thead th {\n",
       "        text-align: right;\n",
       "    }\n",
       "</style>\n",
       "<table border=\"1\" class=\"dataframe\">\n",
       "  <thead>\n",
       "    <tr style=\"text-align: right;\">\n",
       "      <th></th>\n",
       "      <th>pizza_id</th>\n",
       "      <th>order_id</th>\n",
       "      <th>pizza_name_id</th>\n",
       "      <th>quantity</th>\n",
       "      <th>order_date</th>\n",
       "      <th>order_time</th>\n",
       "      <th>unit_price</th>\n",
       "      <th>total_price</th>\n",
       "      <th>pizza_size</th>\n",
       "      <th>pizza_category</th>\n",
       "      <th>pizza_ingredients</th>\n",
       "      <th>pizza_name</th>\n",
       "      <th>month</th>\n",
       "      <th>hour</th>\n",
       "    </tr>\n",
       "  </thead>\n",
       "  <tbody>\n",
       "    <tr>\n",
       "      <th>48615</th>\n",
       "      <td>48616</td>\n",
       "      <td>21348</td>\n",
       "      <td>ckn_alfredo_m</td>\n",
       "      <td>1</td>\n",
       "      <td>31/12/2015</td>\n",
       "      <td>21:23:10</td>\n",
       "      <td>16.75</td>\n",
       "      <td>16.75</td>\n",
       "      <td>M</td>\n",
       "      <td>Chicken</td>\n",
       "      <td>Chicken, Red Onions, Red Peppers, Mushrooms, A...</td>\n",
       "      <td>The Chicken Alfredo Pizza</td>\n",
       "      <td>12</td>\n",
       "      <td>21</td>\n",
       "    </tr>\n",
       "    <tr>\n",
       "      <th>48616</th>\n",
       "      <td>48617</td>\n",
       "      <td>21348</td>\n",
       "      <td>four_cheese_l</td>\n",
       "      <td>1</td>\n",
       "      <td>31/12/2015</td>\n",
       "      <td>21:23:10</td>\n",
       "      <td>17.95</td>\n",
       "      <td>17.95</td>\n",
       "      <td>L</td>\n",
       "      <td>Veggie</td>\n",
       "      <td>Ricotta Cheese, Gorgonzola Piccante Cheese, Mo...</td>\n",
       "      <td>The Four Cheese Pizza</td>\n",
       "      <td>12</td>\n",
       "      <td>21</td>\n",
       "    </tr>\n",
       "    <tr>\n",
       "      <th>48617</th>\n",
       "      <td>48618</td>\n",
       "      <td>21348</td>\n",
       "      <td>napolitana_s</td>\n",
       "      <td>1</td>\n",
       "      <td>31/12/2015</td>\n",
       "      <td>21:23:10</td>\n",
       "      <td>12.00</td>\n",
       "      <td>12.00</td>\n",
       "      <td>S</td>\n",
       "      <td>Classic</td>\n",
       "      <td>Tomatoes, Anchovies, Green Olives, Red Onions,...</td>\n",
       "      <td>The Napolitana Pizza</td>\n",
       "      <td>12</td>\n",
       "      <td>21</td>\n",
       "    </tr>\n",
       "    <tr>\n",
       "      <th>48618</th>\n",
       "      <td>48619</td>\n",
       "      <td>21349</td>\n",
       "      <td>mexicana_l</td>\n",
       "      <td>1</td>\n",
       "      <td>31/12/2015</td>\n",
       "      <td>22:09:54</td>\n",
       "      <td>20.25</td>\n",
       "      <td>20.25</td>\n",
       "      <td>L</td>\n",
       "      <td>Veggie</td>\n",
       "      <td>Tomatoes, Red Peppers, Jalapeno Peppers, Red O...</td>\n",
       "      <td>The Mexicana Pizza</td>\n",
       "      <td>12</td>\n",
       "      <td>22</td>\n",
       "    </tr>\n",
       "    <tr>\n",
       "      <th>48619</th>\n",
       "      <td>48620</td>\n",
       "      <td>21350</td>\n",
       "      <td>bbq_ckn_s</td>\n",
       "      <td>1</td>\n",
       "      <td>31/12/2015</td>\n",
       "      <td>23:02:05</td>\n",
       "      <td>12.75</td>\n",
       "      <td>12.75</td>\n",
       "      <td>S</td>\n",
       "      <td>Chicken</td>\n",
       "      <td>Barbecued Chicken, Red Peppers, Green Peppers,...</td>\n",
       "      <td>The Barbecue Chicken Pizza</td>\n",
       "      <td>12</td>\n",
       "      <td>23</td>\n",
       "    </tr>\n",
       "  </tbody>\n",
       "</table>\n",
       "</div>"
      ],
      "text/plain": [
       "      pizza_id order_id  pizza_name_id  quantity  order_date order_time  \\\n",
       "48615    48616    21348  ckn_alfredo_m         1  31/12/2015   21:23:10   \n",
       "48616    48617    21348  four_cheese_l         1  31/12/2015   21:23:10   \n",
       "48617    48618    21348   napolitana_s         1  31/12/2015   21:23:10   \n",
       "48618    48619    21349     mexicana_l         1  31/12/2015   22:09:54   \n",
       "48619    48620    21350      bbq_ckn_s         1  31/12/2015   23:02:05   \n",
       "\n",
       "       unit_price  total_price pizza_size pizza_category  \\\n",
       "48615       16.75        16.75          M        Chicken   \n",
       "48616       17.95        17.95          L         Veggie   \n",
       "48617       12.00        12.00          S        Classic   \n",
       "48618       20.25        20.25          L         Veggie   \n",
       "48619       12.75        12.75          S        Chicken   \n",
       "\n",
       "                                       pizza_ingredients  \\\n",
       "48615  Chicken, Red Onions, Red Peppers, Mushrooms, A...   \n",
       "48616  Ricotta Cheese, Gorgonzola Piccante Cheese, Mo...   \n",
       "48617  Tomatoes, Anchovies, Green Olives, Red Onions,...   \n",
       "48618  Tomatoes, Red Peppers, Jalapeno Peppers, Red O...   \n",
       "48619  Barbecued Chicken, Red Peppers, Green Peppers,...   \n",
       "\n",
       "                       pizza_name  month  hour  \n",
       "48615   The Chicken Alfredo Pizza     12    21  \n",
       "48616       The Four Cheese Pizza     12    21  \n",
       "48617        The Napolitana Pizza     12    21  \n",
       "48618          The Mexicana Pizza     12    22  \n",
       "48619  The Barbecue Chicken Pizza     12    23  "
      ]
     },
     "execution_count": 6,
     "metadata": {},
     "output_type": "execute_result"
    }
   ],
   "source": [
    "pz_df['hour'] = pd.to_datetime(pz_df['order_time'],format=\"%H:%M:%S\").dt.hour\n",
    "pz_df.tail()"
   ]
  },
  {
   "cell_type": "code",
   "execution_count": 13,
   "id": "e7d7edf2-3df0-4148-bbfa-197c9c0331ed",
   "metadata": {},
   "outputs": [
    {
     "name": "stdout",
     "output_type": "stream",
     "text": [
      "<class 'pandas.core.frame.DataFrame'>\n",
      "RangeIndex: 48620 entries, 0 to 48619\n",
      "Data columns (total 14 columns):\n",
      " #   Column             Non-Null Count  Dtype  \n",
      "---  ------             --------------  -----  \n",
      " 0   pizza_id           48620 non-null  string \n",
      " 1   order_id           48620 non-null  string \n",
      " 2   pizza_name_id      48620 non-null  object \n",
      " 3   quantity           48620 non-null  int64  \n",
      " 4   order_date         48620 non-null  object \n",
      " 5   order_time         48620 non-null  object \n",
      " 6   unit_price         48620 non-null  float64\n",
      " 7   total_price        48620 non-null  float64\n",
      " 8   pizza_size         48620 non-null  object \n",
      " 9   pizza_category     48620 non-null  object \n",
      " 10  pizza_ingredients  48620 non-null  object \n",
      " 11  pizza_name         48620 non-null  object \n",
      " 12  month              48620 non-null  int32  \n",
      " 13  hour               48620 non-null  int32  \n",
      "dtypes: float64(2), int32(2), int64(1), object(7), string(2)\n",
      "memory usage: 4.8+ MB\n"
     ]
    }
   ],
   "source": [
    "pz_df.info()"
   ]
  },
  {
   "cell_type": "markdown",
   "id": "39f023e0-ab0a-478b-a05e-ab84c81ffd04",
   "metadata": {},
   "source": [
    "### **3. Analysis**"
   ]
  },
  {
   "cell_type": "code",
   "execution_count": 7,
   "id": "083764bb-5967-46ed-91ed-d23159912e74",
   "metadata": {},
   "outputs": [],
   "source": [
    "# Storing the color's hexdecimal values in string variables\n",
    "red='#FF3F33'\n",
    "ocean='#075B5E'\n",
    "orange='#FF7D29'\n",
    "sage='#9FC87E'"
   ]
  },
  {
   "cell_type": "markdown",
   "id": "e1fc4f78-8965-40d7-a74c-fbb18775b6a4",
   "metadata": {},
   "source": [
    "### 3.1 Gross Revenue by Month"
   ]
  },
  {
   "cell_type": "code",
   "execution_count": 8,
   "id": "fd1ee6c5-efc9-4e4b-99c0-fc63d79e2498",
   "metadata": {},
   "outputs": [
    {
     "name": "stdout",
     "output_type": "stream",
     "text": [
      "       total_price\n",
      "month             \n",
      "1         69793.30\n",
      "2         65159.60\n",
      "3         70397.10\n",
      "4         68736.80\n",
      "5         71402.75\n",
      "6         68230.20\n",
      "7         72557.90\n",
      "8         68278.25\n",
      "9         64180.05\n",
      "10        64027.60\n",
      "11        70395.35\n",
      "12        64701.15\n"
     ]
    },
    {
     "data": {
      "image/png": "[encoded data removed]",
      "text/plain": [
       "<Figure size 640x480 with 1 Axes>"
      ]
     },
     "metadata": {},
     "output_type": "display_data"
    }
   ],
   "source": [
    "sales_by_month=pz_df.groupby('month').sum()[['total_price']]\n",
    "mon=range(1,13)\n",
    "print(sales_by_month)\n",
    "\n",
    "plt.bar(mon,sales_by_month['total_price'],color=ocean)\n",
    "plt.xticks(mon)\n",
    "plt.xlabel('Month Number')\n",
    "plt.title('Gross Revenue By Month')\n",
    "plt.ylabel('Revenue in USD($)')\n",
    "plt.show()"
   ]
  },
  {
   "cell_type": "markdown",
   "id": "cfe49fb2-28e1-445e-9663-9590cb419557",
   "metadata": {},
   "source": [
    "#### The Gross Revenue is the total revenue earned by pizza sales without any deductions "
   ]
  },
  {
   "cell_type": "markdown",
   "id": "92327ceb-305f-491e-9dcc-9fc67265c48a",
   "metadata": {},
   "source": [
    "#### The above bar graph shows gross revenue per month.The X-axis is the month number which indicates the corresponding month (numbers 1 to 12 is  matched to the month number from January to December) and Y-axis revenue earned in USD. July(month number 7) has the maximum gross revenue with 72558 USD and the month October has minimum gross revenue with 64028 USD."
   ]
  },
  {
   "cell_type": "markdown",
   "id": "a4e389c3-339f-40c9-a231-786956d396cd",
   "metadata": {},
   "source": [
    "#### The bar graph clearly shows that there is a very little variability between the gross revenue of the months which implies that there is little to no seasonal impact on the revenue both positively or negatively. The data shows that the business carters to steady demand."
   ]
  },
  {
   "cell_type": "markdown",
   "id": "4c29857b-253a-4583-b6a4-4ae084ea96ec",
   "metadata": {},
   "source": [
    "### 3.2 Average Order Value(AOV) by Month"
   ]
  },
  {
   "cell_type": "code",
   "execution_count": 9,
   "id": "66d98e67-1ee9-45eb-8c0d-0a8e7489df9d",
   "metadata": {},
   "outputs": [],
   "source": [
    "order_count=[a for a in pz_df.groupby('month').count()['order_id']]\n",
    "aov=list()\n",
    "for i in range(1,13):\n",
    "    r=sales_by_month['total_price'][i]\n",
    "    aov.append(r/order_count[i-1])\n",
    "    "
   ]
  },
  {
   "cell_type": "code",
   "execution_count": 10,
   "id": "6ad36c85-a7b4-4769-80ab-01958798ead0",
   "metadata": {},
   "outputs": [
    {
     "data": {
      "image/png": "[encoded data removed]",
      "text/plain": [
       "<Figure size 640x480 with 1 Axes>"
      ]
     },
     "metadata": {},
     "output_type": "display_data"
    }
   ],
   "source": [
    "plt.plot(mon,aov,color=red)\n",
    "plt.xticks(mon)\n",
    "plt.grid()\n",
    "plt.title('Average Order Value by Month')\n",
    "plt.xlabel('Month Number')\n",
    "plt.ylabel('AOV by Month in USD')\n",
    "plt.show()"
   ]
  },
  {
   "cell_type": "markdown",
   "id": "083d018d-24b4-4c15-933c-a9ff30bba889",
   "metadata": {},
   "source": [
    "#### The Average Order Value(AOV) is the average amount spent per transaction. AOV = total revenue/number of orders.\n",
    "#### It is the average amount spent by a customer per order "
   ]
  },
  {
   "cell_type": "markdown",
   "id": "9d8e18b0-3db6-4add-a64b-9dcd23455cf5",
   "metadata": {},
   "source": [
    "#### In the above graph, the X-axis is the month number which indicates the corresponding month (numbers 1 to 12 is matched to the month number from January to December) and the Y-axis shows the Average Order Value(AOV) by month in USD. The month August has the minimum AOV of 16.68 USD and the maximum AOV of 16.95 USD in the month of June. "
   ]
  },
  {
   "cell_type": "markdown",
   "id": "30e67409-b85e-4021-8e3e-f1337cc35530",
   "metadata": {},
   "source": [
    "#### Both the graph and the quartile range (0.27 USD) indicates that there is very little variability which indicate stable customer spending behavior and there is opportunity to experiment with new offerings to increase AOV. The little variablity in AOV can be due to the stability in pricing as the price fluctuation of the pizza is very less"
   ]
  },
  {
   "cell_type": "markdown",
   "id": "e6816aa4-a396-491e-aee9-6084672da0e9",
   "metadata": {},
   "source": [
    "### 3.3 Total Sales by each Pizza"
   ]
  },
  {
   "cell_type": "code",
   "execution_count": 32,
   "id": "bd6d373f-dee2-4c84-991e-0b2b4d2eacb2",
   "metadata": {},
   "outputs": [
    {
     "name": "stdout",
     "output_type": "stream",
     "text": [
      "Average Sales:  25558.1265625\n"
     ]
    }
   ],
   "source": [
    "avg_sale = (pz_df['total_price'].sum())/len(list(pz_df['pizza_name'].unique()))\n",
    "# Calculating Average Sales"
   ]
  },
  {
   "cell_type": "code",
   "execution_count": 33,
   "id": "cd5b029a-7ba2-4e0c-bbe9-7595e7a9a191",
   "metadata": {},
   "outputs": [
    {
     "data": {
      "image/png": "[encoded data removed]",
      "text/plain": [
       "<Figure size 640x480 with 1 Axes>"
      ]
     },
     "metadata": {},
     "output_type": "display_data"
    },
    {
     "name": "stdout",
     "output_type": "stream",
     "text": [
      "Average Sales:  25558.1265625\n",
      "pizza_name\n",
      "The Barbecue Chicken Pizza                    42768.00\n",
      "The Big Meat Pizza                            22968.00\n",
      "The Brie Carre Pizza                          11588.50\n",
      "The Calabrese Pizza                           15934.25\n",
      "The California Chicken Pizza                  41409.50\n",
      "The Chicken Alfredo Pizza                     16900.25\n",
      "The Chicken Pesto Pizza                       16701.75\n",
      "The Classic Deluxe Pizza                      38180.50\n",
      "The Five Cheese Pizza                         26066.50\n",
      "The Four Cheese Pizza                         32265.70\n",
      "The Greek Pizza                               28454.10\n",
      "The Green Garden Pizza                        13955.75\n",
      "The Hawaiian Pizza                            32273.25\n",
      "The Italian Capocollo Pizza                   25094.00\n",
      "The Italian Supreme Pizza                     33476.75\n",
      "The Italian Vegetables Pizza                  16019.25\n",
      "The Mediterranean Pizza                       15360.50\n",
      "The Mexicana Pizza                            26780.75\n",
      "The Napolitana Pizza                          24087.00\n",
      "The Pepper Salami Pizza                       25529.00\n",
      "The Pepperoni Pizza                           30161.75\n",
      "The Pepperoni, Mushroom, and Peppers Pizza    18834.50\n",
      "The Prosciutto and Arugula Pizza              24193.25\n",
      "The Sicilian Pizza                            30940.50\n",
      "The Soppressata Pizza                         16425.75\n",
      "The Southwest Chicken Pizza                   34705.75\n",
      "The Spicy Italian Pizza                       34831.25\n",
      "The Spinach Pesto Pizza                       15596.00\n",
      "The Spinach Supreme Pizza                     15277.75\n",
      "The Spinach and Feta Pizza                    23271.25\n",
      "The Thai Chicken Pizza                        43434.25\n",
      "The Vegetables + Vegetables Pizza             24374.75\n",
      "Name: total_price, dtype: float64\n"
     ]
    }
   ],
   "source": [
    "res=pz_df.groupby('pizza_name').sum()['total_price']\n",
    "pizzas=[k for k,df in pz_df.groupby('pizza_name')]\n",
    "\n",
    "\n",
    "plt.bar(pizzas,res,color=sage,edgecolor=ocean)\n",
    "plt.xticks(pizzas,rotation='vertical',size=8)\n",
    "plt.xlabel('Pizza Name')\n",
    "plt.ylabel('Total Sales')\n",
    "plt.show()\n",
    "print('Average Sales: ',avg_sale)\n",
    "print(res)"
   ]
  },
  {
   "cell_type": "markdown",
   "id": "3182b23b-068d-4e47-baed-4b7e355de752",
   "metadata": {},
   "source": [
    "### 3.4 Total Quantity Sold by each Pizza Category"
   ]
  },
  {
   "cell_type": "code",
   "execution_count": 17,
   "id": "15d7dc11-dfd1-4a52-9521-a9e75411342b",
   "metadata": {},
   "outputs": [
    {
     "data": {
      "image/png": "[encoded data removed]",
      "text/plain": [
       "<Figure size 640x480 with 1 Axes>"
      ]
     },
     "metadata": {},
     "output_type": "display_data"
    }
   ],
   "source": [
    "sold_by_q = pz_df.groupby('pizza_category').sum()['quantity']\n",
    "\n",
    "plt.pie(sold_by_q,labels=sold_by_q.keys(),colors=[orange,ocean,red,sage],autopct='%2.f%%',pctdistance=1.3)\n",
    "plt.show()"
   ]
  },
  {
   "cell_type": "markdown",
   "id": "183a7260-7542-4ca9-8833-27af0aa3b492",
   "metadata": {},
   "source": [
    "### Pizzas under each category"
   ]
  },
  {
   "cell_type": "code",
   "execution_count": 61,
   "id": "018813e7-79b4-4b4c-94c3-87a04853e7f3",
   "metadata": {},
   "outputs": [
    {
     "name": "stdout",
     "output_type": "stream",
     "text": [
      "Chicken\n",
      "['The Thai Chicken Pizza' 'The Barbecue Chicken Pizza'\n",
      " 'The Southwest Chicken Pizza' 'The California Chicken Pizza'\n",
      " 'The Chicken Pesto Pizza' 'The Chicken Alfredo Pizza']\n",
      "\n",
      "Classic\n",
      "['The Hawaiian Pizza' 'The Classic Deluxe Pizza' 'The Greek Pizza'\n",
      " 'The Italian Capocollo Pizza' 'The Pepperoni Pizza' 'The Big Meat Pizza'\n",
      " 'The Napolitana Pizza' 'The Pepperoni, Mushroom, and Peppers Pizza']\n",
      "\n",
      "Supreme\n",
      "['The Italian Supreme Pizza' 'The Prosciutto and Arugula Pizza'\n",
      " 'The Spinach Supreme Pizza' 'The Spicy Italian Pizza'\n",
      " 'The Soppressata Pizza' 'The Calabrese Pizza' 'The Pepper Salami Pizza'\n",
      " 'The Sicilian Pizza' 'The Brie Carre Pizza']\n",
      "\n",
      "Veggie\n",
      "['The Five Cheese Pizza' 'The Mexicana Pizza' 'The Green Garden Pizza'\n",
      " 'The Spinach Pesto Pizza' 'The Vegetables + Vegetables Pizza'\n",
      " 'The Four Cheese Pizza' 'The Italian Vegetables Pizza'\n",
      " 'The Mediterranean Pizza' 'The Spinach and Feta Pizza']\n",
      "\n"
     ]
    }
   ],
   "source": [
    "for x,y in pz_df.groupby(by='pizza_category'):\n",
    "    print(f'{x}\\n{y['pizza_name'].unique()}\\n')"
   ]
  },
  {
   "cell_type": "markdown",
   "id": "8dfc2cd0-af15-403a-855a-061adf4b9de5",
   "metadata": {},
   "source": [
    "#### With 30% of pizza sold are classic pizza and the top 2 pizzas with highest sales are also classic pizzas, The Classic pizzas are popular and well preferred by the public. Other 3 categories has less variability of 1% each in total quantity sold with each other. \n",
    "\n",
    "#### Eventhough the chicken pizzas has higher sales the quantity sold is compartively low with 22% this suggests that price of the chicken pizzas might be higher and only few of the chicken pizzas are well liked while other's sales are lower than average sales. Also, comapred to other categories chicken pizzas has less products which could have impacted the quantity sold. \n",
    "\n",
    "#### While supereme pizzas and veggie pizzas have many products their sales were lower than average sales. Pizzas with Spinach as the star ingredient had lower sales. This indicates that veggie pizzas needs more flavors other than greens as the primary ingredients."
   ]
  },
  {
   "cell_type": "markdown",
   "id": "70a86f75-82bf-4cbc-9445-7571f89f0f51",
   "metadata": {},
   "source": [
    "### 3.5 Peak Hours"
   ]
  },
  {
   "cell_type": "code",
   "execution_count": 12,
   "id": "2892aeb3-1558-4109-aa8d-235f984ad240",
   "metadata": {},
   "outputs": [
    {
     "data": {
      "image/png": "[encoded data removed]",
      "text/plain": [
       "<Figure size 640x480 with 1 Axes>"
      ]
     },
     "metadata": {},
     "output_type": "display_data"
    }
   ],
   "source": [
    "hours = [hour for hour,df in pz_df.groupby('hour')]\n",
    "\n",
    "plt.plot(hours,pz_df.groupby('hour').count(),color=orange)\n",
    "plt.xticks(hours)\n",
    "plt.grid()\n",
    "plt.xlabel('Hours')\n",
    "plt.ylabel('Number of Orders')\n",
    "plt.show()"
   ]
  },
  {
   "cell_type": "markdown",
   "id": "b69303fa-7da8-4359-9a03-977a47a0e0a5",
   "metadata": {},
   "source": [
    "#### The X-axis shows the Hours (24-Hour clock) and the Y-axis shows the number of orders placed. There is a rapid increase of orders from 10 AM and reaching the highest peak at 12 Noon with 6600 (approx.) orders. Then the numbers of orders dips around afternoon, again it gradually increases and reaching the second peak at 6 PM with 5200 (approx.) orders and then the number of orders gradually decreases. This trend indicates that majority of customers prefers pizza for lunch and in the evening to have good time with their relations."
   ]
  },
  {
   "cell_type": "markdown",
   "id": "88dc9670-aa1d-44d6-bfc1-09c4c4f8d0cf",
   "metadata": {},
   "source": [
    "### 3.6 Common Pizza Combinations"
   ]
  },
  {
   "cell_type": "code",
   "execution_count": 41,
   "id": "21828f70-b531-4be7-91e7-a348d607b131",
   "metadata": {},
   "outputs": [
    {
     "name": "stderr",
     "output_type": "stream",
     "text": [
      "C:\\Users\\Lenovo-Laptop\\AppData\\Local\\Temp\\ipykernel_17464\\4260593946.py:3: SettingWithCopyWarning: \n",
      "A value is trying to be set on a copy of a slice from a DataFrame.\n",
      "Try using .loc[row_indexer,col_indexer] = value instead\n",
      "\n",
      "See the caveats in the documentation: https://pandas.pydata.org/pandas-docs/stable/user_guide/indexing.html#returning-a-view-versus-a-copy\n",
      "  df['Grouped'] = df.groupby('order_id')['pizza_name'].transform(lambda x: '|'.join(x))\n"
     ]
    },
    {
     "data": {
      "text/html": [
       "<div>\n",
       "<style scoped>\n",
       "    .dataframe tbody tr th:only-of-type {\n",
       "        vertical-align: middle;\n",
       "    }\n",
       "\n",
       "    .dataframe tbody tr th {\n",
       "        vertical-align: top;\n",
       "    }\n",
       "\n",
       "    .dataframe thead th {\n",
       "        text-align: right;\n",
       "    }\n",
       "</style>\n",
       "<table border=\"1\" class=\"dataframe\">\n",
       "  <thead>\n",
       "    <tr style=\"text-align: right;\">\n",
       "      <th></th>\n",
       "      <th>order_id</th>\n",
       "      <th>Grouped</th>\n",
       "    </tr>\n",
       "  </thead>\n",
       "  <tbody>\n",
       "    <tr>\n",
       "      <th>1</th>\n",
       "      <td>2</td>\n",
       "      <td>The Classic Deluxe Pizza|The Five Cheese Pizza...</td>\n",
       "    </tr>\n",
       "    <tr>\n",
       "      <th>6</th>\n",
       "      <td>3</td>\n",
       "      <td>The Italian Supreme Pizza|The Prosciutto and A...</td>\n",
       "    </tr>\n",
       "    <tr>\n",
       "      <th>10</th>\n",
       "      <td>6</td>\n",
       "      <td>The Barbecue Chicken Pizza|The Greek Pizza</td>\n",
       "    </tr>\n",
       "    <tr>\n",
       "      <th>14</th>\n",
       "      <td>9</td>\n",
       "      <td>The Classic Deluxe Pizza|The Green Garden Pizz...</td>\n",
       "    </tr>\n",
       "    <tr>\n",
       "      <th>23</th>\n",
       "      <td>10</td>\n",
       "      <td>The Mexicana Pizza|The Southwest Chicken Pizza</td>\n",
       "    </tr>\n",
       "  </tbody>\n",
       "</table>\n",
       "</div>"
      ],
      "text/plain": [
       "   order_id                                            Grouped\n",
       "1         2  The Classic Deluxe Pizza|The Five Cheese Pizza...\n",
       "6         3  The Italian Supreme Pizza|The Prosciutto and A...\n",
       "10        6         The Barbecue Chicken Pizza|The Greek Pizza\n",
       "14        9  The Classic Deluxe Pizza|The Green Garden Pizz...\n",
       "23       10     The Mexicana Pizza|The Southwest Chicken Pizza"
      ]
     },
     "execution_count": 41,
     "metadata": {},
     "output_type": "execute_result"
    }
   ],
   "source": [
    "df = pz_df[pz_df['order_id'].duplicated(keep=False)]\n",
    "\n",
    "df['Grouped'] = df.groupby('order_id')['pizza_name'].transform(lambda x: '|'.join(x))\n",
    "\n",
    "df=df[['order_id','Grouped']].drop_duplicates()\n",
    "df.head()"
   ]
  },
  {
   "cell_type": "code",
   "execution_count": 40,
   "id": "023db7ad-3c2f-4116-8e5f-70633ca4f1e7",
   "metadata": {},
   "outputs": [
    {
     "name": "stdout",
     "output_type": "stream",
     "text": [
      "('The Hawaiian Pizza', 'The Thai Chicken Pizza') 319\n",
      "('The Barbecue Chicken Pizza', 'The Pepperoni Pizza') 308\n",
      "('The Pepperoni Pizza', 'The Thai Chicken Pizza') 299\n",
      "('The Hawaiian Pizza', 'The Pepperoni Pizza') 299\n",
      "('The Classic Deluxe Pizza', 'The Hawaiian Pizza') 296\n",
      "('The Classic Deluxe Pizza', 'The Pepperoni Pizza') 295\n",
      "('The California Chicken Pizza', 'The Hawaiian Pizza') 294\n",
      "('The California Chicken Pizza', 'The Pepperoni Pizza') 292\n",
      "('The Barbecue Chicken Pizza', 'The Hawaiian Pizza') 292\n",
      "('The Barbecue Chicken Pizza', 'The California Chicken Pizza') 287\n"
     ]
    }
   ],
   "source": [
    "from itertools import combinations\n",
    "from collections import Counter\n",
    "\n",
    "count=Counter()\n",
    "\n",
    "for row in df['Grouped']:\n",
    "    row_list = row.split('|')\n",
    "    count.update(Counter(combinations(row_list,2)))\n",
    "\n",
    "for k,v in count.most_common(10):\n",
    "    print(k, v)"
   ]
  },
  {
   "cell_type": "markdown",
   "id": "1ebe8e14-8317-425e-9ac7-137409428f7a",
   "metadata": {},
   "source": [
    "#### Based on the sales data, these are the top 10 combination of 2 pizzas bought together along with the number of orders bought these together. These can be potential combo offers to increase the sales. These combinations have only 7 distinct pizzas and most of the combinations are a classic and chicken pizzas bought together. Also, the sales of top 10 combination has less variability. \n",
    "\n",
    "#### With less variability being the theme of the most combinations sold, the majority of the customers favors chicken and classic pizzas. Also, these 7 pizza's total sales is between 30,000 to 50,000 USD and the top performing products are The Thai Chicken Pizza and The Barbecue Chicken Pizza which are also a part combos bought together. "
   ]
  },
  {
   "cell_type": "markdown",
   "id": "fcde7970-04a3-4cea-b879-1e5f5c435840",
   "metadata": {},
   "source": [
    "#### The Hawaiian pizza and the Pepperoni pizza are repeated in many of the given combos indicating that they are the go-to pizza to buy."
   ]
  },
  {
   "cell_type": "markdown",
   "id": "e7bf06c3-afc7-4720-a180-45f2bec91853",
   "metadata": {},
   "source": [
    "### 4. Conclusion"
   ]
  },
  {
   "cell_type": "markdown",
   "id": "eabdd746-ceb4-497a-95f9-f899fad01e99",
   "metadata": {},
   "source": [
    "#### Based on this analysis, many information were found. Gross Revenue by month had less variability due to stable prices. This also shows that the shop has stable customers which allows to introduce new offers and menu items.\n",
    "\n",
    "#### The Average order value(AOV) by month nearly reached 17 USD but currently its decreasing. Bringing new combo offers might increase the AOV. In total sales, The Thai Chicken Pizza had the most revenue and The Brie Carre Pizza had the least. Overall the Classic pizzas sold the most in quantity and chicken pizzas sold the least because it had less items and some of them had sales lower than average sales, eventhough the top 2 highest revenue earned are chicken pizzas.\n"
   ]
  },
  {
   "cell_type": "markdown",
   "id": "bac66499-a153-471b-8e56-b910ccdf23b9",
   "metadata": {},
   "source": [
    "#### Thus, overall the company can introduce new combo offers and can introduce new flavors in veggie category. For new combo offers, based on the analysis, the suggestions are: (The Hawaiian Pizza, The Thai Chicken Pizza) and (The Barbecue Chicken Pizza, The Pepperoni Pizza) combos."
   ]
  },
  {
   "cell_type": "code",
   "execution_count": null,
   "id": "6a985dbb-3aad-4a73-8895-5d3a71750f6b",
   "metadata": {},
   "outputs": [],
   "source": []
  }
 ],
 "metadata": {
  "kernelspec": {
   "display_name": "Python 3 (ipykernel)",
   "language": "python",
   "name": "python3"
  },
  "language_info": {
   "codemirror_mode": {
    "name": "ipython",
    "version": 3
   },
   "file_extension": ".py",
   "mimetype": "text/x-python",
   "name": "python",
   "nbconvert_exporter": "python",
   "pygments_lexer": "ipython3",
   "version": "3.12.1"
  }
 },
 "nbformat": 4,
 "nbformat_minor": 5
}
